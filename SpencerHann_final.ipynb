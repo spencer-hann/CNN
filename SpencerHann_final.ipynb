{
 "cells": [
  {
   "cell_type": "markdown",
   "metadata": {},
   "source": [
    "# Convolutional Neural Network\n",
    "Spencer Hann\n",
    "EE 584 - Final Project"
   ]
  },
  {
   "cell_type": "code",
   "execution_count": 1,
   "metadata": {},
   "outputs": [],
   "source": [
    "import numpy as np\n",
    "\n",
    "from matplotlib import pyplot as plt\n",
    "from cnn.data import preprocess_data"
   ]
  },
  {
   "cell_type": "code",
   "execution_count": 2,
   "metadata": {},
   "outputs": [
    {
     "name": "stdout",
     "output_type": "stream",
     "text": [
      "loading data/mnist_train.csv... done. (20000, 785)\n",
      "loading data/mnist_test.csv... done. (100, 785)\n"
     ]
    }
   ],
   "source": [
    "training_examples, training_targets = \\\n",
    "    preprocess_data(\"data/mnist_train.csv\", max_rows=20000)\n",
    "validation_examples, validation_targets = \\\n",
    "    preprocess_data(\"data/mnist_test.csv\", max_rows=200)\n",
    "\n",
    "data = (training_examples, training_targets, validation_examples, validation_targets)\n",
    "train_set = (training_examples, training_targets)\n",
    "val_set = (validation_examples, validation_targets)"
   ]
  },
  {
   "cell_type": "markdown",
   "metadata": {},
   "source": [
    "## Proof of Concept: Simple Neural Net Layer\n",
    "\n",
    "\n",
    "This section demonstrates, in a very simplified way, my approach to the problem of creating interconnectable, modular neural network layers."
   ]
  },
  {
   "cell_type": "code",
   "execution_count": 3,
   "metadata": {},
   "outputs": [],
   "source": [
    "from cnn.cnn import CNN, Layer, DenseSoftmaxLayer, ConvolutionalLayer"
   ]
  },
  {
   "cell_type": "code",
   "execution_count": 4,
   "metadata": {},
   "outputs": [],
   "source": [
    "class DenseLayer(Layer):\n",
    "    def __init__(self, insize, outsize=10):\n",
    "        # layer dimensions\n",
    "        self.insize = insize\n",
    "        self.outsize = outsize\n",
    "\n",
    "        # random weight initializations\n",
    "        self.w = np.random.randn(insize, outsize) / insize\n",
    "        self.b = np.random.randn(outsize) / outsize\n",
    "\n",
    "    def forward(self, image):\n",
    "        image = image.flatten()  # dense layer requires a flat vector\n",
    "\n",
    "        # fully-connected/matmul phase + bias\n",
    "        result = np.dot(image, self.w) + self.b\n",
    "        return result"
   ]
  },
  {
   "cell_type": "markdown",
   "metadata": {},
   "source": [
    "A simple nerual net fully connected layer that simply takes its input and multiplies it by its weight matrix."
   ]
  },
  {
   "cell_type": "code",
   "execution_count": 5,
   "metadata": {},
   "outputs": [],
   "source": [
    "# create example layers\n",
    "layer1 = DenseLayer(28*28, 64)\n",
    "layer2 = DenseLayer(64, 10)"
   ]
  },
  {
   "cell_type": "markdown",
   "metadata": {},
   "source": [
    "Create multiple layers with matching `outsize` and `insize` dimensions."
   ]
  },
  {
   "cell_type": "code",
   "execution_count": 6,
   "metadata": {},
   "outputs": [],
   "source": [
    "def forward(image, label):\n",
    "    middle = layer1.forward(image)\n",
    "    out = layer2.forward(middle)\n",
    "    \n",
    "    is_correct = np.argmax(out) == label\n",
    "    return None, is_correct"
   ]
  },
  {
   "cell_type": "markdown",
   "metadata": {},
   "source": [
    "Any number of `Layer` objects can be strung together so that each successive layer receives the outputs of the previous."
   ]
  },
  {
   "cell_type": "code",
   "execution_count": 7,
   "metadata": {},
   "outputs": [],
   "source": [
    "def test(images, labels):\n",
    "    n_correct = 0.0\n",
    "    for image, label in zip(images, labels):\n",
    "        _, c = forward(image, label)\n",
    "        n_correct += c\n",
    "    return n_correct / len(images)"
   ]
  },
  {
   "cell_type": "code",
   "execution_count": 8,
   "metadata": {},
   "outputs": [
    {
     "name": "stdout",
     "output_type": "stream",
     "text": [
      "Accuracy: 14.0%\n"
     ]
    }
   ],
   "source": [
    "accuracy = 100 * test(*val_set)  # should be about 1 / n_classes\n",
    "print(f\"Accuracy: {round(accuracy)}%\")"
   ]
  },
  {
   "cell_type": "markdown",
   "metadata": {},
   "source": [
    "This is a randomly initialized network that we will test the feed forward functionality on.  With 10 evenly represented output classes in our testing data, we expect to see roughly 10% accuracy."
   ]
  },
  {
   "cell_type": "markdown",
   "metadata": {},
   "source": [
    "## Adding Back Propagation"
   ]
  },
  {
   "cell_type": "code",
   "execution_count": 9,
   "metadata": {},
   "outputs": [],
   "source": [
    "class DenseLayer(Layer):\n",
    "    def __init__(self, insize, outsize=10):\n",
    "        self.insize = insize\n",
    "        self.outsize = outsize\n",
    "\n",
    "        self.w = np.random.randn(insize, outsize) / insize\n",
    "        self.b = np.random.randn(outsize) / outsize\n",
    "\n",
    "    def forward(self, image):\n",
    "        self.last_image = image        # <<----\n",
    "        image = image.flatten()\n",
    "\n",
    "        # fully-connected/matmul phase\n",
    "        fc = np.dot(image, self.w) + self.b\n",
    "        self.last_fc = fc              # <<----\n",
    "\n",
    "        return fc\n",
    "\n",
    "    def backprop(self, loss_grad, lr):\n",
    "        # output gradients wrt input, biases, weights\n",
    "        ograd_input = self.w\n",
    "        ograd_biases = 1\n",
    "        ograd_weights = self.last_image.flatten()\n",
    "\n",
    "        # loss gradients wrt input, biases, weights\n",
    "        lgrad_input = ograd_input @ loss_grad\n",
    "        lgrad_biases = ograd_biases * loss_grad\n",
    "        lgrad_weights = ograd_weights[:,np.newaxis] @ loss_grad[np.newaxis]\n",
    "\n",
    "        # update layer\n",
    "        self.w += lr * lgrad_weights\n",
    "        self.b += lr * lgrad_biases\n",
    "        return lgrad_input.reshape(self.last_image.shape)"
   ]
  },
  {
   "cell_type": "code",
   "execution_count": 10,
   "metadata": {},
   "outputs": [
    {
     "data": {
      "text/plain": [
       "<CNN: lr=0.008, lr_decay=0.9, \n",
       "layers=(\t\n",
       "<ConvolutionalLayer: (1, 4, 3), momentum=0.0>,\t\n",
       "<DenseLayer>,\t\n",
       "<ReLULayer>,\t\n",
       "<DenseSoftmaxLayer: (64, 10)>\n",
       ")>"
      ]
     },
     "execution_count": 10,
     "metadata": {},
     "output_type": "execute_result"
    }
   ],
   "source": [
    "from cnn.cnn import ReLULayer\n",
    "cnn = CNN((\n",
    "    ConvolutionalLayer(1,4,3),\n",
    "    DenseLayer(28*28*4, 64),\n",
    "    ReLULayer(),\n",
    "    DenseSoftmaxLayer(64,10)\n",
    "), lr=0.008, lr_decay=0.9)\n",
    "cnn"
   ]
  },
  {
   "cell_type": "markdown",
   "metadata": {},
   "source": [
    "I wrap this example `DenseLayer` in a `CNN` object with some other layers. The CNN object allows thes packages"
   ]
  },
  {
   "cell_type": "code",
   "execution_count": 11,
   "metadata": {},
   "outputs": [
    {
     "name": "stdout",
     "output_type": "stream",
     "text": [
      "Training 0/1...\n",
      "Epoch 0/5: 2.31 loss, 11.00% accurate, lr=0.008, \n",
      "Epoch 1/5: 2.31 loss, 19.75% accurate, lr=0.007200000000000001, \n",
      "Epoch 2/5: 2.31 loss, 21.00% accurate, lr=0.0064800000000000005, \n",
      "Epoch 3/5: 2.31 loss, 18.25% accurate, lr=0.005832, \n",
      "Epoch 4/5: 2.30 loss, 20.50% accurate, lr=0.0052488000000000005, \n",
      "Testing 0/1...\n",
      "Test: 2.30 loss, 18.00% accurate\n",
      "CPU times: user 6min 25s, sys: 4min 12s, total: 10min 38s\n",
      "Wall time: 2min 49s\n"
     ]
    }
   ],
   "source": [
    "%time cnn.train_test_cycle(5, 1, train_set, val_set, sample_size=400)"
   ]
  },
  {
   "cell_type": "markdown",
   "metadata": {},
   "source": [
    "# Demonstration of Full Networks\n",
    "\n",
    "The layers I built can be stacked in multiple ways to make arbitrary convolutional and fully-connected nerual architectures and trained. Each contains a `forward` function, and `backprop` function that lets them communicate loss gradients to each other during gradient descent."
   ]
  },
  {
   "cell_type": "code",
   "execution_count": 12,
   "metadata": {},
   "outputs": [],
   "source": [
    "from cnn.cnn import (\n",
    "    CNN, \n",
    "    ConvolutionalLayer, \n",
    "    MaxPoolingLayer, \n",
    "    DenseSoftmaxLayer,\n",
    "    ReLULayer,\n",
    ")"
   ]
  },
  {
   "cell_type": "code",
   "execution_count": 13,
   "metadata": {},
   "outputs": [
    {
     "data": {
      "text/plain": [
       "<CNN: lr=0.01, lr_decay=0.9, \n",
       "layers=(\t\n",
       "<ConvolutionalLayer: (1, 3, 3), momentum=0.0>,\t\n",
       "<MaxPoolingLayer: 2>,\t\n",
       "<ConvolutionalLayer: (3, 1, 3), momentum=0.0>,\t\n",
       "<ReLULayer>,\t\n",
       "<DenseSoftmaxLayer: (196, 10)>\n",
       ")>"
      ]
     },
     "execution_count": 13,
     "metadata": {},
     "output_type": "execute_result"
    }
   ],
   "source": [
    "cnn = CNN((\n",
    "    ConvolutionalLayer(1,3,3),\n",
    "    MaxPoolingLayer(2),\n",
    "    ConvolutionalLayer(3,1,3),\n",
    "    ReLULayer(),\n",
    "    DenseSoftmaxLayer(14*14, 10),\n",
    "))\n",
    "cnn"
   ]
  },
  {
   "cell_type": "markdown",
   "metadata": {},
   "source": [
    "In my `cnn.ConvolutionalLayer` class, the arguments are `(n_channels, n_filters, filter_size)`, currently only square filters are supported."
   ]
  },
  {
   "cell_type": "code",
   "execution_count": 14,
   "metadata": {},
   "outputs": [
    {
     "name": "stdout",
     "output_type": "stream",
     "text": [
      "Test: 2.31 loss, 7.00% accurate\n"
     ]
    }
   ],
   "source": [
    "cnn.test(*val_set);"
   ]
  },
  {
   "cell_type": "markdown",
   "metadata": {},
   "source": [
    "Approximately random perfomance is to be expected.  This shows that feed forward is working properly, but that no learning has occured yet."
   ]
  },
  {
   "cell_type": "markdown",
   "metadata": {},
   "source": [
    "## Demonstration of Back Propogation\n",
    "\n",
    "This section demonstrates support for multiple different neural architectures."
   ]
  },
  {
   "cell_type": "code",
   "execution_count": 15,
   "metadata": {},
   "outputs": [],
   "source": [
    "from matplotlib import pyplot as plt"
   ]
  },
  {
   "cell_type": "code",
   "execution_count": 16,
   "metadata": {},
   "outputs": [],
   "source": [
    "def_sample_size = 2000;"
   ]
  },
  {
   "cell_type": "code",
   "execution_count": 17,
   "metadata": {},
   "outputs": [],
   "source": [
    "def veiw_filters(cnn, layer = 0):  # only for filters w/ depth = 1 (first layer)\n",
    "    \"\"\"graphical view of what convolutional filters the network is learning.\"\"\"\n",
    "    plt.cla()\n",
    "    n = len(cnn.layers[layer].filters)\n",
    "    for i, fltr in enumerate(cnn.layers[layer].filters):\n",
    "        plt.subplot(1, n+1, i+1)\n",
    "        fltr -= fltr.min()\n",
    "        fltr /= fltr.max()\n",
    "        plt.imshow(fltr[0], cmap=\"gray\")\n",
    "        plt.xticks(()); plt.yticks(());\n",
    "    plt.show()"
   ]
  },
  {
   "cell_type": "code",
   "execution_count": 18,
   "metadata": {},
   "outputs": [
    {
     "data": {
      "text/plain": [
       "<CNN: lr=0.01, lr_decay=0.9, \n",
       "layers=(\t\n",
       "<ConvolutionalLayer: (1, 8, 3), momentum=0.0>,\t\n",
       "<DenseSoftmaxLayer: (6272, 10)>\n",
       ")>"
      ]
     },
     "execution_count": 18,
     "metadata": {},
     "output_type": "execute_result"
    }
   ],
   "source": [
    "cnn = CNN((\n",
    "    ConvolutionalLayer(1,8,3),\n",
    "    DenseSoftmaxLayer(28*28*8, 10),\n",
    "))\n",
    "cnn"
   ]
  },
  {
   "cell_type": "code",
   "execution_count": 19,
   "metadata": {},
   "outputs": [
    {
     "data": {
      "image/png": "[encoded data removed]",
      "text/plain": [
       "<Figure size 432x288 with 8 Axes>"
      ]
     },
     "metadata": {},
     "output_type": "display_data"
    }
   ],
   "source": [
    "veiw_filters(cnn)"
   ]
  },
  {
   "cell_type": "code",
   "execution_count": 20,
   "metadata": {
    "scrolled": true
   },
   "outputs": [
    {
     "name": "stdout",
     "output_type": "stream",
     "text": [
      "Training 0/2...\n",
      "Epoch 0/3: 2.12 loss, 49.30% accurate, lr=0.01, \n",
      "Epoch 1/3: 1.55 loss, 62.15% accurate, lr=0.009000000000000001, \n",
      "Epoch 2/3: 1.58 loss, 62.60% accurate, lr=0.008100000000000001, \n",
      "Testing 0/2...\n",
      "Test: 1.50 loss, 64.00% accurate\n",
      "Training 1/2...\n",
      "Epoch 0/3: 1.64 loss, 61.75% accurate, lr=0.007290000000000001, \n",
      "Epoch 1/3: 1.60 loss, 62.05% accurate, lr=0.006561000000000002, \n",
      "Epoch 2/3: 1.61 loss, 63.05% accurate, lr=0.005904900000000002, \n",
      "Testing 1/2...\n",
      "Test: 1.46 loss, 67.00% accurate\n",
      "CPU times: user 41min 39s, sys: 26min 35s, total: 1h 8min 15s\n",
      "Wall time: 19min 43s\n"
     ]
    }
   ],
   "source": [
    "%time cnn.train_test_cycle(3, 2, train_set, val_set, sample_size=def_sample_size)"
   ]
  },
  {
   "cell_type": "code",
   "execution_count": 21,
   "metadata": {},
   "outputs": [
    {
     "data": {
      "image/png": "[encoded data removed]",
      "text/plain": [
       "<Figure size 432x288 with 8 Axes>"
      ]
     },
     "metadata": {},
     "output_type": "display_data"
    }
   ],
   "source": [
    "veiw_filters(cnn)"
   ]
  },
  {
   "cell_type": "code",
   "execution_count": 22,
   "metadata": {},
   "outputs": [
    {
     "data": {
      "text/plain": [
       "<CNN: lr=0.01, lr_decay=0.9, \n",
       "layers=(\t\n",
       "<ConvolutionalLayer: (1, 3, 3), momentum=0.0>,\t\n",
       "<MaxPoolingLayer: 2>,\t\n",
       "<ConvolutionalLayer: (3, 3, 3), momentum=0.0>,\t\n",
       "<DenseSoftmaxLayer: (588, 10)>\n",
       ")>"
      ]
     },
     "execution_count": 22,
     "metadata": {},
     "output_type": "execute_result"
    }
   ],
   "source": [
    "cnn = CNN((\n",
    "    ConvolutionalLayer(1,3,3),\n",
    "    MaxPoolingLayer(2),\n",
    "    ConvolutionalLayer(3,3,3),\n",
    "    DenseSoftmaxLayer(14*14*3, 10),\n",
    "))\n",
    "cnn"
   ]
  },
  {
   "cell_type": "code",
   "execution_count": 23,
   "metadata": {
    "scrolled": false
   },
   "outputs": [
    {
     "name": "stdout",
     "output_type": "stream",
     "text": [
      "Training 0/2...\n",
      "Epoch 0/3: 2.31 loss, 10.75% accurate, lr=0.01, \n",
      "Epoch 1/3: 2.26 loss, 47.55% accurate, lr=0.009000000000000001, \n",
      "Epoch 2/3: 2.18 loss, 68.45% accurate, lr=0.008100000000000001, \n",
      "Testing 0/2...\n",
      "Test: 2.12 loss, 71.00% accurate\n",
      "Training 1/2...\n",
      "Epoch 0/3: 2.04 loss, 72.90% accurate, lr=0.007290000000000001, \n",
      "Epoch 1/3: 1.89 loss, 72.60% accurate, lr=0.006561000000000002, \n",
      "Epoch 2/3: 1.76 loss, 74.55% accurate, lr=0.005904900000000002, \n",
      "Testing 1/2...\n",
      "Test: 1.74 loss, 76.00% accurate\n",
      "CPU times: user 5min 18s, sys: 120 ms, total: 5min 18s\n",
      "Wall time: 5min 18s\n"
     ]
    }
   ],
   "source": [
    "%time cnn.train_test_cycle(3, 2, train_set, val_set, sample_size=def_sample_size)"
   ]
  },
  {
   "cell_type": "code",
   "execution_count": 24,
   "metadata": {},
   "outputs": [
    {
     "data": {
      "image/png": "[encoded data removed]",
      "text/plain": [
       "<Figure size 432x288 with 3 Axes>"
      ]
     },
     "metadata": {},
     "output_type": "display_data"
    }
   ],
   "source": [
    "veiw_filters(cnn)"
   ]
  },
  {
   "cell_type": "code",
   "execution_count": 25,
   "metadata": {},
   "outputs": [
    {
     "data": {
      "text/plain": [
       "<CNN: lr=0.01, lr_decay=0.9, \n",
       "layers=(\t\n",
       "<ConvolutionalLayer: (1, 8, 3), momentum=0.0>,\t\n",
       "<ConvolutionalLayer: (8, 4, 3), momentum=0.0>,\t\n",
       "<DenseSoftmaxLayer: (3136, 10)>\n",
       ")>"
      ]
     },
     "execution_count": 25,
     "metadata": {},
     "output_type": "execute_result"
    }
   ],
   "source": [
    "cnn = CNN((\n",
    "    ConvolutionalLayer(1,8,3),\n",
    "    ConvolutionalLayer(8,4,3),\n",
    "    DenseSoftmaxLayer(28*28*4, 10),\n",
    "))\n",
    "cnn"
   ]
  },
  {
   "cell_type": "code",
   "execution_count": 26,
   "metadata": {
    "scrolled": true
   },
   "outputs": [
    {
     "name": "stdout",
     "output_type": "stream",
     "text": [
      "Training 0/2...\n",
      "Epoch 0/3: 1.92 loss, 45.45% accurate, lr=0.01, \n",
      "Epoch 1/3: 1.37 loss, 67.55% accurate, lr=0.009000000000000001, \n",
      "Epoch 2/3: 1.35 loss, 71.55% accurate, lr=0.008100000000000001, \n",
      "Testing 0/2...\n",
      "Test: 1.34 loss, 73.00% accurate\n",
      "Training 1/2...\n",
      "Epoch 0/3: 1.40 loss, 68.40% accurate, lr=0.007290000000000001, \n",
      "Epoch 1/3: 1.43 loss, 68.55% accurate, lr=0.006561000000000002, \n",
      "Epoch 2/3: 1.44 loss, 69.05% accurate, lr=0.005904900000000002, \n",
      "Testing 1/2...\n",
      "Test: 1.41 loss, 68.00% accurate\n",
      "CPU times: user 50min 45s, sys: 29min 57s, total: 1h 20min 43s\n",
      "Wall time: 25min 43s\n"
     ]
    }
   ],
   "source": [
    "%time cnn.train_test_cycle(3, 2, train_set, val_set, sample_size=def_sample_size)"
   ]
  },
  {
   "cell_type": "code",
   "execution_count": 27,
   "metadata": {},
   "outputs": [
    {
     "data": {
      "image/png": "[encoded data removed]",
      "text/plain": [
       "<Figure size 432x288 with 8 Axes>"
      ]
     },
     "metadata": {},
     "output_type": "display_data"
    }
   ],
   "source": [
    "veiw_filters(cnn)"
   ]
  },
  {
   "cell_type": "code",
   "execution_count": 31,
   "metadata": {},
   "outputs": [
    {
     "data": {
      "text/plain": [
       "<CNN: lr=0.01, lr_decay=0.8, \n",
       "layers=(\t\n",
       "<ConvolutionalLayer: (1, 16, 3), momentum=0.0>,\t\n",
       "<MaxPoolingLayer: 2>,\t\n",
       "<ReLULayer>,\t\n",
       "<ConvolutionalLayer: (16, 32, 3), momentum=0.0>,\t\n",
       "<MaxPoolingLayer: 2>,\t\n",
       "<ReLULayer>,\t\n",
       "<DenseSoftmaxLayer: (1568, 10)>\n",
       ")>"
      ]
     },
     "execution_count": 31,
     "metadata": {},
     "output_type": "execute_result"
    }
   ],
   "source": [
    "cnn = CNN(\n",
    "    (\n",
    "        ConvolutionalLayer(1,16,3),\n",
    "        MaxPoolingLayer(2),\n",
    "        ReLULayer(),\n",
    "        ConvolutionalLayer(16,32,3),\n",
    "        MaxPoolingLayer(2),\n",
    "        ReLULayer(),\n",
    "        DenseSoftmaxLayer(7*7*32, 10),\n",
    "    ), \n",
    "    lr = 0.01,\n",
    "    lr_decay = 0.8,\n",
    ")\n",
    "cnn"
   ]
  },
  {
   "cell_type": "code",
   "execution_count": 32,
   "metadata": {
    "scrolled": true
   },
   "outputs": [
    {
     "name": "stdout",
     "output_type": "stream",
     "text": [
      "Training 0/3...\n",
      "Epoch 0/3: 2.30 loss, 19.67% accurate, lr=0.01, \n",
      "Epoch 1/3: 2.30 loss, 48.80% accurate, lr=0.008, \n",
      "Epoch 2/3: 2.30 loss, 63.73% accurate, lr=0.0064, \n",
      "Testing 0/3...\n",
      "Test: 2.30 loss, 67.00% accurate\n",
      "Training 1/3...\n",
      "Epoch 0/3: 2.30 loss, 67.67% accurate, lr=0.00512, \n",
      "Epoch 1/3: 2.30 loss, 72.07% accurate, lr=0.004096000000000001, \n",
      "Epoch 2/3: 2.30 loss, 74.37% accurate, lr=0.0032768000000000007, \n",
      "Testing 1/3...\n",
      "Test: 2.30 loss, 78.00% accurate\n",
      "Training 2/3...\n",
      "Epoch 0/3: 2.30 loss, 74.70% accurate, lr=0.002621440000000001, \n",
      "Epoch 1/3: 2.30 loss, 76.67% accurate, lr=0.002097152000000001, \n",
      "Epoch 2/3: 2.30 loss, 77.10% accurate, lr=0.001677721600000001, \n",
      "Testing 2/3...\n",
      "Test: 2.30 loss, 77.00% accurate\n",
      "CPU times: user 2h 32min 22s, sys: 1h 3min 34s, total: 3h 35min 57s\n",
      "Wall time: 1h 39min 21s\n"
     ]
    }
   ],
   "source": [
    "%time cnn.train_test_cycle(3, 3, train_set, val_set, sample_size=3000)"
   ]
  },
  {
   "cell_type": "code",
   "execution_count": 33,
   "metadata": {},
   "outputs": [
    {
     "data": {
      "image/png": "[encoded data removed]",
      "text/plain": [
       "<Figure size 432x288 with 16 Axes>"
      ]
     },
     "metadata": {},
     "output_type": "display_data"
    }
   ],
   "source": [
    "veiw_filters(cnn)"
   ]
  }
 ],
 "metadata": {
  "kernelspec": {
   "display_name": "Python 3",
   "language": "python",
   "name": "python3"
  },
  "language_info": {
   "codemirror_mode": {
    "name": "ipython",
    "version": 3
   },
   "file_extension": ".py",
   "mimetype": "text/x-python",
   "name": "python",
   "nbconvert_exporter": "python",
   "pygments_lexer": "ipython3",
   "version": "3.7.5"
  }
 },
 "nbformat": 4,
 "nbformat_minor": 4
}
