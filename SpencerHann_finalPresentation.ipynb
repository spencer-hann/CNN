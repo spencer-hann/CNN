{
 "cells": [
  {
   "cell_type": "markdown",
   "metadata": {},
   "source": [
    "# Convolutional Neural Network\n",
    "Spencer Hann\n",
    "EE 584 - Final Project"
   ]
  },
  {
   "cell_type": "code",
   "execution_count": 1,
   "metadata": {},
   "outputs": [],
   "source": [
    "import numpy as np\n",
    "\n",
    "from matplotlib import pyplot as plt\n",
    "from cnn.data import preprocess_data"
   ]
  },
  {
   "cell_type": "code",
   "execution_count": 2,
   "metadata": {},
   "outputs": [
    {
     "name": "stdout",
     "output_type": "stream",
     "text": [
      "loading from file... done.\n",
      "loading from file... done.\n"
     ]
    }
   ],
   "source": [
    "training_examples, training_targets = \\\n",
    "    preprocess_data(\"data/mnist_train.csv\", max_rows=2000)\n",
    "testing_examples, testing_targets = \\\n",
    "    preprocess_data(\"data/mnist_test.csv\", max_rows=1000)\n",
    "\n",
    "data = (training_examples, training_targets, testing_examples, testing_targets)\n",
    "train_set = (training_examples, training_targets)\n",
    "test_set = (testing_examples, testing_targets)"
   ]
  },
  {
   "cell_type": "markdown",
   "metadata": {},
   "source": [
    "## Proof of Concept: Simple Neural Net Layer"
   ]
  },
  {
   "cell_type": "code",
   "execution_count": 3,
   "metadata": {},
   "outputs": [],
   "source": [
    "from cnn.cnn_basic import CNN, Layer, DenseSoftmaxLayer"
   ]
  },
  {
   "cell_type": "code",
   "execution_count": 4,
   "metadata": {},
   "outputs": [],
   "source": [
    "class DenseLayer:\n",
    "    def __init__(self, insize, outsize=10):\n",
    "        self.insize = insize\n",
    "        self.outsize = outsize\n",
    "\n",
    "        self.w = np.random.randn(insize, outsize) / insize\n",
    "        self.b = np.random.randn(outsize) / outsize\n",
    "\n",
    "    def forward(self, image):\n",
    "        image = image.flatten()\n",
    "\n",
    "        # fully-connected/matmul phase\n",
    "        result = np.dot(image, self.w) + self.b\n",
    "        return result\n"
   ]
  },
  {
   "cell_type": "code",
   "execution_count": 5,
   "metadata": {},
   "outputs": [],
   "source": [
    "layer1 = DenseLayer(28*28, 64)\n",
    "layer2 = DenseLayer(64, 10)"
   ]
  },
  {
   "cell_type": "code",
   "execution_count": 6,
   "metadata": {},
   "outputs": [],
   "source": [
    "def forward(image, label):\n",
    "    middle = layer1.forward(image)\n",
    "    out = layer2.forward(middle)\n",
    "    \n",
    "    is_correct = np.argmax(out) == label\n",
    "    return None, is_correct"
   ]
  },
  {
   "cell_type": "code",
   "execution_count": 7,
   "metadata": {},
   "outputs": [],
   "source": [
    "def test(images, labels):\n",
    "    n_correct = 0.0\n",
    "    for image, label in zip(images, labels):\n",
    "        _, c = forward(image, label)\n",
    "        n_correct += c\n",
    "    return n_correct / len(images)"
   ]
  },
  {
   "cell_type": "code",
   "execution_count": 8,
   "metadata": {},
   "outputs": [
    {
     "name": "stdout",
     "output_type": "stream",
     "text": [
      "Accuracy: 9.0%\n"
     ]
    }
   ],
   "source": [
    "accuracy = 100 * test(*test_set)  # should be about 1 / n_classes\n",
    "print(f\"Accuracy: {round(accuracy)}%\")"
   ]
  },
  {
   "cell_type": "markdown",
   "metadata": {},
   "source": [
    "## Adding Back Propagation"
   ]
  },
  {
   "cell_type": "code",
   "execution_count": 9,
   "metadata": {},
   "outputs": [],
   "source": [
    "class DenseLayer:\n",
    "    def __init__(self, insize, outsize=10):\n",
    "        self.insize = insize\n",
    "        self.outsize = outsize\n",
    "\n",
    "        self.w = np.random.randn(insize, outsize) / insize\n",
    "        self.b = np.random.randn(outsize) / outsize\n",
    "\n",
    "    def forward(self, image):\n",
    "        self.last_image = image        # <<----\n",
    "        image = image.flatten()\n",
    "\n",
    "        # fully-connected/matmul phase\n",
    "        fc = np.dot(image, self.w) + self.b\n",
    "        self.last_fc = fc              # <<----\n",
    "\n",
    "        return fc\n",
    "\n",
    "    def backprop(self, loss_grad, lr=0.002):\n",
    "        # output gradients wrt input, biases, weights\n",
    "        ograd_input = self.w\n",
    "        ograd_biases = 1\n",
    "        ograd_weights = self.last_image.flatten()\n",
    "\n",
    "        # loss gradients wrt input, biases, weights\n",
    "        lgrad_input = ograd_input @ loss_grad\n",
    "        lgrad_biases = ograd_biases * loss_grad\n",
    "        lgrad_weights = ograd_weights[:,np.newaxis] @ loss_grad[np.newaxis]\n",
    "\n",
    "        # update layer\n",
    "        self.w += lr * lgrad_weights\n",
    "        self.b += lr * lgrad_biases\n",
    "        return lgrad_input.reshape(self.last_image.shape)\n"
   ]
  },
  {
   "cell_type": "code",
   "execution_count": 10,
   "metadata": {},
   "outputs": [],
   "source": [
    "layer1 = DenseLayer(28*28, 64)\n",
    "layer2 = DenseLayer(64, 10)\n",
    "layers = (layer1, layer2,)"
   ]
  },
  {
   "cell_type": "code",
   "execution_count": 11,
   "metadata": {},
   "outputs": [],
   "source": [
    "def forward(image, label):\n",
    "    out = image\n",
    "    for layer in layers:\n",
    "        out = layer.forward(out)\n",
    "    \n",
    "    is_correct = np.argmax(out) == label\n",
    "    loss = -np.log(out[label])           # <<------\n",
    "    \n",
    "    return out, loss, is_correct"
   ]
  },
  {
   "cell_type": "code",
   "execution_count": 12,
   "metadata": {},
   "outputs": [],
   "source": [
    "def learn(image, label):\n",
    "    out, loss, correct = forward(image, label)\n",
    "    \n",
    "    if correct:\n",
    "        return loss, correct\n",
    "\n",
    "    # cross entropy gradient\n",
    "    grad = np.zeros(10)\n",
    "    grad[label] = - 1 / out[label]\n",
    "\n",
    "    for layer in layers[::-1]:\n",
    "        grad = layer.backprop(grad, lr=0.02)\n",
    "\n",
    "    return loss, correct"
   ]
  },
  {
   "cell_type": "code",
   "execution_count": 13,
   "metadata": {},
   "outputs": [],
   "source": [
    "def train(n_epochs, images, labels):\n",
    "    n = len(images)\n",
    "    \n",
    "    for epoch in range(n_epochs):\n",
    "        ncorrect = 0\n",
    "        for image, label in zip(images, labels):\n",
    "            _, c = learn(image, label)\n",
    "            ncorrect += c\n",
    "\n",
    "        accuracy = round(100 * ncorrect / n)\n",
    "        print(f\"Epoch:{epoch}, Accuracy: {100 * ncorrect / n}\")"
   ]
  },
  {
   "cell_type": "markdown",
   "metadata": {},
   "source": [
    "## Demonstration of Forward propogation\n",
    "\n",
    "This is a randomly initialized network that we will test the feed forward functionality on.  With 10 evenly represented output classes in our testing data, we expect to see roughly 10% accuracy."
   ]
  },
  {
   "cell_type": "code",
   "execution_count": 14,
   "metadata": {},
   "outputs": [],
   "source": [
    "from cnn.cnn_basic import (\n",
    "    CNN, \n",
    "    ConvolutionalLayer, \n",
    "    MaxPoolingLayer, \n",
    "    DenseSoftmaxLayer,\n",
    ")"
   ]
  },
  {
   "cell_type": "code",
   "execution_count": 15,
   "metadata": {},
   "outputs": [],
   "source": [
    "cnn = CNN((\n",
    "    ConvolutionalLayer(1,3,3, first_layer=True),\n",
    "    MaxPoolingLayer(2),\n",
    "    ConvolutionalLayer(3,1,3,),\n",
    "    DenseSoftmaxLayer(14*14, 10),\n",
    "))"
   ]
  },
  {
   "cell_type": "code",
   "execution_count": 16,
   "metadata": {},
   "outputs": [
    {
     "name": "stderr",
     "output_type": "stream",
     "text": [
      "100%|██████████| 1000/1000 [00:08<00:00, 112.58it/s]"
     ]
    },
    {
     "name": "stdout",
     "output_type": "stream",
     "text": [
      "Test: 2.31 loss, 11.00% accurate\n"
     ]
    },
    {
     "name": "stderr",
     "output_type": "stream",
     "text": [
      "\n"
     ]
    }
   ],
   "source": [
    "cnn.test(*test_set);"
   ]
  },
  {
   "cell_type": "markdown",
   "metadata": {},
   "source": [
    "Approximately random perfomance, this is to be expected.  It shows that feed forward is working properly."
   ]
  },
  {
   "cell_type": "markdown",
   "metadata": {},
   "source": [
    "## Demonstration of Back Propogation"
   ]
  },
  {
   "cell_type": "code",
   "execution_count": 17,
   "metadata": {},
   "outputs": [],
   "source": [
    "cnn = CNN(\n",
    "    (\n",
    "        ConvolutionalLayer(1,3,3, first_layer=True),\n",
    "        DenseSoftmaxLayer(28*28*3, 10),\n",
    "    ),\n",
    "    lr = 0.01\n",
    ")"
   ]
  },
  {
   "cell_type": "code",
   "execution_count": 18,
   "metadata": {
    "scrolled": true
   },
   "outputs": [
    {
     "name": "stderr",
     "output_type": "stream",
     "text": [
      "100%|██████████| 2000/2000 [01:21<00:00, 24.45it/s]\n",
      "  0%|          | 2/2000 [00:00<01:52, 17.83it/s]"
     ]
    },
    {
     "name": "stdout",
     "output_type": "stream",
     "text": [
      "Epoch 0/6: 1.82 loss, 51.20% accurate\n"
     ]
    },
    {
     "name": "stderr",
     "output_type": "stream",
     "text": [
      "100%|██████████| 2000/2000 [01:23<00:00, 23.85it/s]\n",
      "  0%|          | 2/2000 [00:00<01:40, 19.95it/s]"
     ]
    },
    {
     "name": "stdout",
     "output_type": "stream",
     "text": [
      "Epoch 1/6: 1.31 loss, 60.25% accurate\n"
     ]
    },
    {
     "name": "stderr",
     "output_type": "stream",
     "text": [
      "100%|██████████| 2000/2000 [01:25<00:00, 23.27it/s]\n",
      "  0%|          | 3/2000 [00:00<01:33, 21.39it/s]"
     ]
    },
    {
     "name": "stdout",
     "output_type": "stream",
     "text": [
      "Epoch 2/6: 1.31 loss, 60.75% accurate\n"
     ]
    },
    {
     "name": "stderr",
     "output_type": "stream",
     "text": [
      "100%|██████████| 2000/2000 [01:30<00:00, 22.08it/s]\n",
      "  0%|          | 2/2000 [00:00<02:00, 16.58it/s]"
     ]
    },
    {
     "name": "stdout",
     "output_type": "stream",
     "text": [
      "Epoch 3/6: 1.37 loss, 59.95% accurate\n"
     ]
    },
    {
     "name": "stderr",
     "output_type": "stream",
     "text": [
      "100%|██████████| 2000/2000 [01:46<00:00, 18.74it/s]\n",
      "  0%|          | 3/2000 [00:00<01:32, 21.54it/s]"
     ]
    },
    {
     "name": "stdout",
     "output_type": "stream",
     "text": [
      "Epoch 4/6: 1.43 loss, 59.25% accurate\n"
     ]
    },
    {
     "name": "stderr",
     "output_type": "stream",
     "text": [
      "100%|██████████| 2000/2000 [01:25<00:00, 23.37it/s]"
     ]
    },
    {
     "name": "stdout",
     "output_type": "stream",
     "text": [
      "Epoch 5/6: 1.48 loss, 58.95% accurate\n",
      "CPU times: user 19min 15s, sys: 12min 30s, total: 31min 46s\n",
      "Wall time: 8min 54s\n"
     ]
    },
    {
     "name": "stderr",
     "output_type": "stream",
     "text": [
      "\n"
     ]
    }
   ],
   "source": [
    "%time cnn.train_epochs(6, *train_set);"
   ]
  },
  {
   "cell_type": "code",
   "execution_count": 19,
   "metadata": {},
   "outputs": [
    {
     "name": "stderr",
     "output_type": "stream",
     "text": [
      "100%|██████████| 1000/1000 [00:13<00:00, 73.38it/s]"
     ]
    },
    {
     "name": "stdout",
     "output_type": "stream",
     "text": [
      "Test: 2.07 loss, 44.80% accurate\n"
     ]
    },
    {
     "name": "stderr",
     "output_type": "stream",
     "text": [
      "\n"
     ]
    }
   ],
   "source": [
    "cnn.test(*test_set);"
   ]
  },
  {
   "cell_type": "markdown",
   "metadata": {},
   "source": [
    "Though this is significantly better than random, it is still not as high as I'd like it to be.  I believe the reason for this is that the network in it current state is relatively low-capacity, and does not contain any non-linearities."
   ]
  }
 ],
 "metadata": {
  "kernelspec": {
   "display_name": "Python 3",
   "language": "python",
   "name": "python3"
  },
  "language_info": {
   "codemirror_mode": {
    "name": "ipython",
    "version": 3
   },
   "file_extension": ".py",
   "mimetype": "text/x-python",
   "name": "python",
   "nbconvert_exporter": "python",
   "pygments_lexer": "ipython3",
   "version": "3.7.5"
  }
 },
 "nbformat": 4,
 "nbformat_minor": 4
}
